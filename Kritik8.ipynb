{
 "cells": [
  {
   "cell_type": "code",
   "execution_count": 12,
   "id": "4654f3da-2763-43e6-9d5c-a7aeec471155",
   "metadata": {},
   "outputs": [
    {
     "name": "stdout",
     "output_type": "stream",
     "text": [
      "(-1.8999999999999997, -1.8999999999999997)\n",
      "(-3.0000000000000018, -1.000000000000001)\n",
      "(0.0, 1.9999990997123154)\n",
      "(0.0, -1.9999997749292553)\n"
     ]
    }
   ],
   "source": [
    "import numpy as np\n",
    "\n",
    "# 4a\n",
    "def fxn_1(x, y):\n",
    "    return x * 2 + y * 2  # This is just a linear function\n",
    "\n",
    "def grad_fxn_1(x, y):\n",
    "    return 2, 2  # The gradient is constant\n",
    "\n",
    "def fxn_2(x, y):\n",
    "    return 1 - np.exp(-x * 2 - (y - 2) ** 2) - 2 * np.exp(-x * 2 - (y + 2) ** 2)\n",
    "\n",
    "def grad_fxn_2(x, y):\n",
    "    grad_x = 2 * x * np.exp(-x * 2 - (y - 2) ** 2) + 4 * x * np.exp(-x * 2 - (y + 2) ** 2)\n",
    "    grad_y = (2 * (y - 2)) * np.exp(-x * 2 - (y - 2) ** 2) + (4 * (y + 2)) * np.exp(-x * 2 - (y + 2) ** 2)\n",
    "    return grad_x, grad_y\n",
    "\n",
    "def gradient_descent(x0, y0, grad_f, alpha, num_iterations):\n",
    "    x, y = x0, y0\n",
    "    \n",
    "    for _ in range(num_iterations):\n",
    "        grad_x, grad_y = grad_f(x, y)  # Compute the gradient at the current point\n",
    "        x -= alpha * grad_x  # Update x\n",
    "        y -= alpha * grad_y  # Update y\n",
    "    \n",
    "    return float(x), float(y)\n",
    "\n",
    "# 4b\n",
    "print(gradient_descent(0.1, 0.1, grad_fxn_1, 0.1, 10))\n",
    "print(gradient_descent(-1, 1, grad_fxn_1, 0.01, 100))\n",
    "\n",
    "# 4c\n",
    "print(gradient_descent(0, 1, grad_fxn_2, 0.01, 10000))\n",
    "print(gradient_descent(0, -1, grad_fxn_2, 0.01, 10000))"
   ]
  },
  {
   "cell_type": "code",
   "execution_count": null,
   "id": "621b78d1-8345-4070-92a1-a068df8f81c8",
   "metadata": {},
   "outputs": [],
   "source": []
  }
 ],
 "metadata": {
  "kernelspec": {
   "display_name": "Python 3 (ipykernel)",
   "language": "python",
   "name": "python3"
  },
  "language_info": {
   "codemirror_mode": {
    "name": "ipython",
    "version": 3
   },
   "file_extension": ".py",
   "mimetype": "text/x-python",
   "name": "python",
   "nbconvert_exporter": "python",
   "pygments_lexer": "ipython3",
   "version": "3.12.8"
  }
 },
 "nbformat": 4,
 "nbformat_minor": 5
}
