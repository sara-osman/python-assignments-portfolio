{
 "cells": [
  {
   "cell_type": "code",
   "execution_count": 12,
   "id": "b625c4c6-1e71-4c31-b64a-044cc23f748f",
   "metadata": {},
   "outputs": [
    {
     "ename": "NameError",
     "evalue": "name 'f' is not defined",
     "output_type": "error",
     "traceback": [
      "\u001b[0;31m---------------------------------------------------------------------------\u001b[0m",
      "\u001b[0;31mNameError\u001b[0m                                 Traceback (most recent call last)",
      "Cell \u001b[0;32mIn[12], line 16\u001b[0m\n\u001b[1;32m     14\u001b[0m \u001b[38;5;28;01mdef\u001b[39;00m \u001b[38;5;21mroots\u001b[39m (f, x1, x2):\n\u001b[1;32m     15\u001b[0m     midpoint \u001b[38;5;241m=\u001b[39m (x1\u001b[38;5;241m+\u001b[39mx2)\u001b[38;5;241m/\u001b[39m\u001b[38;5;241m2\u001b[39m\n\u001b[0;32m---> 16\u001b[0m y1 \u001b[38;5;241m=\u001b[39m \u001b[43mf\u001b[49m(x1)\n\u001b[1;32m     17\u001b[0m y2\u001b[38;5;241m=\u001b[39m f(x2)\n\u001b[1;32m     18\u001b[0m ym \u001b[38;5;241m=\u001b[39m f(midpoint)\n",
      "\u001b[0;31mNameError\u001b[0m: name 'f' is not defined"
     ]
    }
   ],
   "source": [
    "import numpy as np\n",
    "def f1(x):\n",
    "    return np.exp(x) + np.log(x)\n",
    "def f2(x):\n",
    "    return np.arctan(x) - x**2\n",
    "def f3(x):\n",
    "    return np.sin(x)/np.log(x)\n",
    "def f4(x):\n",
    "    return np.log(np.cos(x))\n",
    "\n",
    "def has_root(f, a, b):\n",
    "    return f(a)*f(b)<0\n",
    "\n",
    "def roots (f, x1, x2):\n",
    "    midpoint = (x1+x2)/2\n",
    "y1 = f1(x)\n",
    "y2= f(x2)\n",
    "ym = f(midpoint)\n",
    "\n",
    "if y1 == 0:\n",
    "    return x1\n",
    "elif y2 == 0:\n",
    "    return x2\n",
    "\n",
    "while abs(x2-x1) > 10 ** (-11):\n",
    "    midpoint = (x1+x2)/2\n",
    "    if f(midpoint) == 0:\n",
    "        return midpoint\n",
    "    elif has_root (f, x1, midpoint):\n",
    "        x2 = midpoint\n",
    "    else: \n",
    "        x1 = midpoint\n",
    "\n",
    "return (x1+x2)/2\n",
    "\n",
    "\n",
    "print(roots(f1, 0, 1))\n",
    "print(roots(f2, 0, 2))\n",
    "print(roots(f3, 3, 4))\n",
    "print(roots(f4, 5, 7))\n",
    "    \n"
   ]
  },
  {
   "cell_type": "code",
   "execution_count": null,
   "id": "dbd93ad9-91d3-41cb-b30b-879d83f5bae3",
   "metadata": {},
   "outputs": [],
   "source": []
  }
 ],
 "metadata": {
  "kernelspec": {
   "display_name": "Python 3 (ipykernel)",
   "language": "python",
   "name": "python3"
  },
  "language_info": {
   "codemirror_mode": {
    "name": "ipython",
    "version": 3
   },
   "file_extension": ".py",
   "mimetype": "text/x-python",
   "name": "python",
   "nbconvert_exporter": "python",
   "pygments_lexer": "ipython3",
   "version": "3.11.9"
  }
 },
 "nbformat": 4,
 "nbformat_minor": 5
}
